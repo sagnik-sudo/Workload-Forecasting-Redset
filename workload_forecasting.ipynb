{
 "cells": [
  {
   "cell_type": "code",
   "execution_count": 4,
   "metadata": {},
   "outputs": [],
   "source": [
    "import pandas as pd\n",
    "from datetime import datetime\n",
    "\n",
    "import helper_functions, visualization"
   ]
  },
  {
   "cell_type": "code",
   "execution_count": 6,
   "metadata": {},
   "outputs": [],
   "source": [
    "# Load the data\n",
    "data = helper_functions.load_data(cluster_type='provisioned', instance_id=4)"
   ]
  },
  {
   "cell_type": "code",
   "execution_count": 7,
   "metadata": {},
   "outputs": [],
   "source": [
    "# Visualize data\n",
    "visualization.visualize_data(data)"
   ]
  },
  {
   "cell_type": "code",
   "execution_count": 8,
   "metadata": {},
   "outputs": [],
   "source": [
    "# Split into training and test data:\n",
    "# Following the approach in the paper (p. 132), for a cluster with N weeks of data, \n",
    "# the first train-test split includes N-2 weeks for training and the following week \n",
    "# for testing. The second train-test split contains the first N-1 weeks for training \n",
    "# and the following week for testing, representing a scenario of re-training a model \n",
    "# each week and forecasting for the next week\n",
    "\n",
    "train1, test1, train2, test2 = helper_functions.train_test_split(data)\n"
   ]
  },
  {
   "cell_type": "code",
   "execution_count": null,
   "metadata": {},
   "outputs": [],
   "source": [
    "# Train baseline models"
   ]
  },
  {
   "cell_type": "code",
   "execution_count": null,
   "metadata": {},
   "outputs": [],
   "source": [
    "# Test baseline models and calculate error metrics"
   ]
  },
  {
   "cell_type": "code",
   "execution_count": null,
   "metadata": {},
   "outputs": [],
   "source": [
    "# visualize first prediction\n",
    "visualization.visualize_prediction(train1, test1, prediction1)\n",
    "\n",
    "# visualize first prediction\n",
    "visualization.visualize_prediction(train2, test2, prediction2)"
   ]
  }
 ],
 "metadata": {
  "kernelspec": {
   "display_name": "Python 3",
   "language": "python",
   "name": "python3"
  },
  "language_info": {
   "codemirror_mode": {
    "name": "ipython",
    "version": 3
   },
   "file_extension": ".py",
   "mimetype": "text/x-python",
   "name": "python",
   "nbconvert_exporter": "python",
   "pygments_lexer": "ipython3",
   "version": "3.11.9"
  }
 },
 "nbformat": 4,
 "nbformat_minor": 2
}
