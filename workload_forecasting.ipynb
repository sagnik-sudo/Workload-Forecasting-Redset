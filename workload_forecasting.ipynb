{
 "cells": [
  {
   "cell_type": "code",
   "execution_count": 1,
   "metadata": {},
   "outputs": [],
   "source": [
    "import pandas as pd\n",
    "from datetime import datetime\n",
    "from utility.helpers import DataManager\n",
    "import visualization\n",
    "\n",
    "datamanager = DataManager('provisioned', 4)"
   ]
  },
  {
   "cell_type": "code",
   "execution_count": 2,
   "metadata": {},
   "outputs": [],
   "source": [
    "# Load the data\n",
    "data = datamanager.load_data()\n",
    "# Convert timestamp to datetime\n",
    "data['timestamp'] = pd.to_datetime(data['timestamp'])"
   ]
  },
  {
   "cell_type": "code",
   "execution_count": 3,
   "metadata": {},
   "outputs": [
    {
     "data": {
      "text/html": [
       "<div>\n",
       "<style scoped>\n",
       "    .dataframe tbody tr th:only-of-type {\n",
       "        vertical-align: middle;\n",
       "    }\n",
       "\n",
       "    .dataframe tbody tr th {\n",
       "        vertical-align: top;\n",
       "    }\n",
       "\n",
       "    .dataframe thead th {\n",
       "        text-align: right;\n",
       "    }\n",
       "</style>\n",
       "<table border=\"1\" class=\"dataframe\">\n",
       "  <thead>\n",
       "    <tr style=\"text-align: right;\">\n",
       "      <th></th>\n",
       "      <th>instance_id</th>\n",
       "      <th>timestamp</th>\n",
       "      <th>query_count</th>\n",
       "      <th>runtime</th>\n",
       "      <th>bytes_scanned</th>\n",
       "    </tr>\n",
       "  </thead>\n",
       "  <tbody>\n",
       "    <tr>\n",
       "      <th>0</th>\n",
       "      <td>4</td>\n",
       "      <td>2024-02-29 23:00:00</td>\n",
       "      <td>1</td>\n",
       "      <td>1546</td>\n",
       "      <td>1315.0</td>\n",
       "    </tr>\n",
       "    <tr>\n",
       "      <th>1</th>\n",
       "      <td>4</td>\n",
       "      <td>2024-03-01 00:00:00</td>\n",
       "      <td>8334</td>\n",
       "      <td>38989865</td>\n",
       "      <td>270649152.0</td>\n",
       "    </tr>\n",
       "    <tr>\n",
       "      <th>2</th>\n",
       "      <td>4</td>\n",
       "      <td>2024-03-01 01:00:00</td>\n",
       "      <td>9573</td>\n",
       "      <td>18817973</td>\n",
       "      <td>251629065.0</td>\n",
       "    </tr>\n",
       "    <tr>\n",
       "      <th>3</th>\n",
       "      <td>4</td>\n",
       "      <td>2024-03-01 02:00:00</td>\n",
       "      <td>11037</td>\n",
       "      <td>24512813</td>\n",
       "      <td>219990412.0</td>\n",
       "    </tr>\n",
       "    <tr>\n",
       "      <th>4</th>\n",
       "      <td>4</td>\n",
       "      <td>2024-03-01 03:00:00</td>\n",
       "      <td>9899</td>\n",
       "      <td>29100500</td>\n",
       "      <td>227740532.0</td>\n",
       "    </tr>\n",
       "    <tr>\n",
       "      <th>...</th>\n",
       "      <td>...</td>\n",
       "      <td>...</td>\n",
       "      <td>...</td>\n",
       "      <td>...</td>\n",
       "      <td>...</td>\n",
       "    </tr>\n",
       "    <tr>\n",
       "      <th>1405</th>\n",
       "      <td>4</td>\n",
       "      <td>2024-04-28 12:00:00</td>\n",
       "      <td>11124</td>\n",
       "      <td>20230903</td>\n",
       "      <td>149600146.0</td>\n",
       "    </tr>\n",
       "    <tr>\n",
       "      <th>1406</th>\n",
       "      <td>4</td>\n",
       "      <td>2024-04-28 13:00:00</td>\n",
       "      <td>10772</td>\n",
       "      <td>12816265</td>\n",
       "      <td>147060663.0</td>\n",
       "    </tr>\n",
       "    <tr>\n",
       "      <th>1407</th>\n",
       "      <td>4</td>\n",
       "      <td>2024-04-28 14:00:00</td>\n",
       "      <td>10122</td>\n",
       "      <td>19675888</td>\n",
       "      <td>146689262.0</td>\n",
       "    </tr>\n",
       "    <tr>\n",
       "      <th>1408</th>\n",
       "      <td>4</td>\n",
       "      <td>2024-04-28 15:00:00</td>\n",
       "      <td>10153</td>\n",
       "      <td>15793307</td>\n",
       "      <td>147946283.0</td>\n",
       "    </tr>\n",
       "    <tr>\n",
       "      <th>1409</th>\n",
       "      <td>4</td>\n",
       "      <td>2024-04-28 16:00:00</td>\n",
       "      <td>2388</td>\n",
       "      <td>6019657</td>\n",
       "      <td>60912224.0</td>\n",
       "    </tr>\n",
       "  </tbody>\n",
       "</table>\n",
       "<p>1410 rows × 5 columns</p>\n",
       "</div>"
      ],
      "text/plain": [
       "      instance_id           timestamp  query_count   runtime  bytes_scanned\n",
       "0               4 2024-02-29 23:00:00            1      1546         1315.0\n",
       "1               4 2024-03-01 00:00:00         8334  38989865    270649152.0\n",
       "2               4 2024-03-01 01:00:00         9573  18817973    251629065.0\n",
       "3               4 2024-03-01 02:00:00        11037  24512813    219990412.0\n",
       "4               4 2024-03-01 03:00:00         9899  29100500    227740532.0\n",
       "...           ...                 ...          ...       ...            ...\n",
       "1405            4 2024-04-28 12:00:00        11124  20230903    149600146.0\n",
       "1406            4 2024-04-28 13:00:00        10772  12816265    147060663.0\n",
       "1407            4 2024-04-28 14:00:00        10122  19675888    146689262.0\n",
       "1408            4 2024-04-28 15:00:00        10153  15793307    147946283.0\n",
       "1409            4 2024-04-28 16:00:00         2388   6019657     60912224.0\n",
       "\n",
       "[1410 rows x 5 columns]"
      ]
     },
     "execution_count": 3,
     "metadata": {},
     "output_type": "execute_result"
    }
   ],
   "source": [
    "# Visualize data\n",
    "visualization.visualize_data(data)\n",
    "data"
   ]
  },
  {
   "cell_type": "code",
   "execution_count": 6,
   "metadata": {},
   "outputs": [
    {
     "name": "stdout",
     "output_type": "stream",
     "text": [
      "train1 start: 2024-02-29 23:00:00\n",
      "train1 end: 2024-04-14 23:00:00\n",
      "test1 start: 2024-04-15 00:00:00\n",
      "test1 end: 2024-04-21 23:00:00\n",
      "train2 start: 2024-02-29 23:00:00\n",
      "train2 end: 2024-04-21 23:00:00\n",
      "test2 start: 2024-04-22 00:00:00\n",
      "test2 end: 2024-04-27 23:00:00\n"
     ]
    }
   ],
   "source": [
    "# Split into training and test data:\n",
    "# Following the approach in the paper (p. 132), for a cluster with N weeks of data, \n",
    "# the first train-test split includes N-2 weeks for training and the following week \n",
    "# for testing. The second train-test split contains the first N-1 weeks for training \n",
    "# and the following week for testing, representing a scenario of re-training a model \n",
    "# each week and forecasting for the next week\n",
    "\n",
    "train1, test1, train2, test2 = datamanager.train_test_split(data)\n",
    "\n",
    "# Check the timestamps of train and test data\n",
    "print(f\"train1 start: {train1.iloc[0]['timestamp']}\")\n",
    "print(f\"train1 end: {train1.iloc[-1]['timestamp']}\")\n",
    "\n",
    "print(f\"test1 start: {test1.iloc[0]['timestamp']}\")\n",
    "print(f\"test1 end: {test1.iloc[-1]['timestamp']}\")\n",
    "\n",
    "\n",
    "print(f\"train2 start: {train2.iloc[0]['timestamp']}\")\n",
    "print(f\"train2 end: {train2.iloc[-1]['timestamp']}\")\n",
    "\n",
    "print(f\"test2 start: {test2.iloc[0]['timestamp']}\")\n",
    "print(f\"test2 end: {test2.iloc[-1]['timestamp']}\")\n"
   ]
  },
  {
   "cell_type": "code",
   "execution_count": 5,
   "metadata": {},
   "outputs": [],
   "source": [
    "# Train baseline models"
   ]
  },
  {
   "cell_type": "code",
   "execution_count": 6,
   "metadata": {},
   "outputs": [],
   "source": [
    "# Test baseline models and calculate error metrics"
   ]
  },
  {
   "cell_type": "code",
   "execution_count": 7,
   "metadata": {},
   "outputs": [
    {
     "ename": "NameError",
     "evalue": "name 'prediction1' is not defined",
     "output_type": "error",
     "traceback": [
      "\u001b[1;31m---------------------------------------------------------------------------\u001b[0m",
      "\u001b[1;31mNameError\u001b[0m                                 Traceback (most recent call last)",
      "Cell \u001b[1;32mIn[7], line 2\u001b[0m\n\u001b[0;32m      1\u001b[0m \u001b[38;5;66;03m# visualize first prediction\u001b[39;00m\n\u001b[1;32m----> 2\u001b[0m visualization\u001b[38;5;241m.\u001b[39mvisualize_prediction(train1, test1, \u001b[43mprediction1\u001b[49m)\n\u001b[0;32m      4\u001b[0m \u001b[38;5;66;03m# visualize first prediction\u001b[39;00m\n\u001b[0;32m      5\u001b[0m visualization\u001b[38;5;241m.\u001b[39mvisualize_prediction(train2, test2, prediction2)\n",
      "\u001b[1;31mNameError\u001b[0m: name 'prediction1' is not defined"
     ]
    }
   ],
   "source": [
    "# visualize first prediction\n",
    "visualization.visualize_prediction(train1, test1, prediction1)\n",
    "\n",
    "# visualize first prediction\n",
    "visualization.visualize_prediction(train2, test2, prediction2)"
   ]
  }
 ],
 "metadata": {
  "kernelspec": {
   "display_name": "Python 3",
   "language": "python",
   "name": "python3"
  },
  "language_info": {
   "codemirror_mode": {
    "name": "ipython",
    "version": 3
   },
   "file_extension": ".py",
   "mimetype": "text/x-python",
   "name": "python",
   "nbconvert_exporter": "python",
   "pygments_lexer": "ipython3",
   "version": "3.11.9"
  }
 },
 "nbformat": 4,
 "nbformat_minor": 2
}
